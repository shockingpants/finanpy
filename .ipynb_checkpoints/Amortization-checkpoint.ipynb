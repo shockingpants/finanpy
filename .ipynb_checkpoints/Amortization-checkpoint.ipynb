{
 "cells": [
  {
   "cell_type": "code",
   "execution_count": 1,
   "metadata": {
    "inputHidden": false,
    "outputHidden": false
   },
   "outputs": [],
   "source": [
    "import finanpy as fp\n",
    "import pandas as pd\n",
    "import numpy as np\n",
    "import matplotlib.pyplot as plt\n"
   ]
  },
  {
   "cell_type": "markdown",
   "metadata": {},
   "source": [
    "# Is paying off your mortgage ASAP a good idea?\n",
    "Let's do a case study using the following tools. Suppose we decide to take a\n",
    "loan of 1 million dollars. How does the cost change depending on whether we\n",
    "pay it off in 10 years vs 40 years? How does it affect our savings? Should\n",
    "we pay a higher monthly mortgage if we have a larger income? We will attempt\n",
    "to answer these questions using simple interest rates calculations that\n",
    "ignores fixed fees for now.\n",
    "\n",
    "## Formula\n",
    "The following function is based on the [amortization formula]\n",
    "(https://en.wikipedia.org/wiki/Amortization_calculator). For a given principal,\n",
    "annual interest rate, and period of repayment (in months), the formula \\\n",
    "calculates the monthly repayment (c), amount the go towards paying the\n",
    "principal (cp), amount that goes to servicing the debt (ci),\n",
    "and the remaining debt after a single monthly payment. Notice that the formula\n",
    "fixes the length of repayment and makes all other calculations based on that.\n",
    "If the interest rate rises for a particular month, the formula will be able to\n",
    "calculate a new monthly payment to preserve repayment term."
   ]
  },
  {
   "cell_type": "code",
   "execution_count": 2,
   "metadata": {
    "inputHidden": false,
    "outputHidden": false
   },
   "outputs": [
    {
     "data": {
      "text/plain": [
       "(856.62483221822, 813.9581655515534, 42.66666666666667, 9186.041834448446)"
      ]
     },
     "execution_count": 2,
     "metadata": {},
     "output_type": "execute_result"
    }
   ],
   "source": [
    "output = fp.amortize_month(10000,0.0512,12) #c cp ci debt\n",
    "output\n"
   ]
  },
  {
   "cell_type": "markdown",
   "metadata": {},
   "source": [
    "## Amortization Schedule\n",
    "Using amortize_month(), we will calculate the repayment schedule for a typical\n",
    "home loan of 1 million dollars with fixed or variable interest rates."
   ]
  },
  {
   "cell_type": "code",
   "execution_count": 3,
   "metadata": {
    "inputHidden": false,
    "outputHidden": false
   },
   "outputs": [],
   "source": [
    "Y = 40 #number of years\n",
    "# Annual interest rates for Y number of years\n",
    "#pa = (np.random.randn(40)*0.01+0.03) #\n",
    "#pa[0:3] = 0.02\n",
    "pa = np.zeros(Y)+0.026\n",
    "output = fp.amortize_schedule(1000000,pa) #month, c, cp, ci, debt, ti\n"
   ]
  },
  {
   "cell_type": "markdown",
   "metadata": {},
   "source": [
    "The following plots illustrates the amortization schedule. Notice that for\n",
    "long term loans, the amount that goes towards to interest is very high,\n",
    "typically $2k per month at least for the first year.\n"
   ]
  },
  {
   "cell_type": "code",
   "execution_count": 4,
   "metadata": {
    "inputHidden": false,
    "outputHidden": false
   },
   "outputs": [
    {
     "data": {
      "image/png": "[encoded data removed]",
      "text/plain": [
       "<Figure size 432x288 with 1 Axes>"
      ]
     },
     "metadata": {
      "needs_background": "light"
     },
     "output_type": "display_data"
    }
   ],
   "source": [
    "plt.figure()\n",
    "plt.ion()\n",
    "plt.plot(output['month'], output['c'], label='Monthly Payment')\n",
    "plt.plot(output['month'], output['ci'], label='Monthly Interest')\n",
    "plt.plot(output['month'], output['cp'], label='Monthly Principal')\n",
    "plt.legend()\n",
    "plt.grid()\n"
   ]
  },
  {
   "cell_type": "markdown",
   "metadata": {},
   "source": [
    "The total interest and amount paid is:\n"
   ]
  },
  {
   "cell_type": "code",
   "execution_count": 5,
   "metadata": {
    "inputHidden": false,
    "outputHidden": false
   },
   "outputs": [
    {
     "data": {
      "text/plain": [
       "0.37870438178516386"
      ]
     },
     "execution_count": 5,
     "metadata": {},
     "output_type": "execute_result"
    }
   ],
   "source": [
    "# Total Paid\n",
    "output['ti'][-1] # Total Interest\n",
    "output['debt'][0] + output['ti'][-1] # Total paid\n",
    "output['ti'][-1]/(output['debt'][0] + output['ti'][-1]) # percentage on principal\n"
   ]
  },
  {
   "cell_type": "markdown",
   "metadata": {},
   "source": [
    "## Opportunity cost\n",
    "Next, we will look at the kinds of opportunity cost associated with taking a\n",
    "home loan. We will first look at the differences without consideration for\n",
    "rent, fixed cost, incomes, liquidity etc. and focus purely on investment in\n",
    "real estate vs equity and bonds.\n",
    "\n",
    "We will"
   ]
  },
  {
   "cell_type": "code",
   "execution_count": 6,
   "metadata": {
    "inputHidden": false,
    "outputHidden": false
   },
   "outputs": [
    {
     "ename": "NameError",
     "evalue": "name 'Tp' is not defined",
     "output_type": "error",
     "traceback": [
      "\u001b[0;31m---------------------------------------------------------------------------\u001b[0m",
      "\u001b[0;31mNameError\u001b[0m                                 Traceback (most recent call last)",
      "\u001b[0;32m<ipython-input-6-a3b678279e6d>\u001b[0m in \u001b[0;36m<module>\u001b[0;34m\u001b[0m\n\u001b[1;32m      2\u001b[0m \u001b[0;34m\u001b[0m\u001b[0m\n\u001b[1;32m      3\u001b[0m \u001b[0;31m# Equivalent Interest needed to break even\u001b[0m\u001b[0;34m\u001b[0m\u001b[0;34m\u001b[0m\u001b[0;34m\u001b[0m\u001b[0m\n\u001b[0;32m----> 4\u001b[0;31m \u001b[0mEi\u001b[0m \u001b[0;34m=\u001b[0m \u001b[0;34m(\u001b[0m\u001b[0mTp\u001b[0m \u001b[0;34m/\u001b[0m \u001b[0moutput\u001b[0m\u001b[0;34m[\u001b[0m\u001b[0;34m'debt'\u001b[0m\u001b[0;34m]\u001b[0m\u001b[0;34m[\u001b[0m\u001b[0;36m0\u001b[0m\u001b[0;34m]\u001b[0m\u001b[0;34m)\u001b[0m \u001b[0;34m**\u001b[0m \u001b[0;34m(\u001b[0m\u001b[0;36m1\u001b[0m \u001b[0;34m/\u001b[0m \u001b[0mlen\u001b[0m\u001b[0;34m(\u001b[0m\u001b[0mpa\u001b[0m\u001b[0;34m)\u001b[0m\u001b[0;34m)\u001b[0m \u001b[0;34m-\u001b[0m \u001b[0;36m1\u001b[0m\u001b[0;34m\u001b[0m\u001b[0;34m\u001b[0m\u001b[0m\n\u001b[0m\u001b[1;32m      5\u001b[0m \u001b[0mEi\u001b[0m\u001b[0;34m\u001b[0m\u001b[0;34m\u001b[0m\u001b[0m\n\u001b[1;32m      6\u001b[0m \u001b[0;31m# Lost Income (Opportunity Cost) if monthly payments went into savings\u001b[0m\u001b[0;34m\u001b[0m\u001b[0;34m\u001b[0m\u001b[0;34m\u001b[0m\u001b[0m\n",
      "\u001b[0;31mNameError\u001b[0m: name 'Tp' is not defined"
     ]
    }
   ],
   "source": [
    "# Total Paid\n",
    "\n",
    "# Equivalent Interest needed to break even\n",
    "Ei = (Tp / output['debt'][0]) ** (1 / len(pa)) - 1\n",
    "Ei\n",
    "# Lost Income (Opportunity Cost) if monthly payments went into savings\n",
    "spa = np.ones(len(pa)) * 0.05 # Savings interest rate\n",
    "savings = fp.save_series(output['c'][1:], spa)\n",
    "savings\n",
    "\n",
    "\n",
    "\n",
    "\n",
    "\n",
    "pa=np.arange(0.005,0.1,0.001)\n",
    "r=pa/12\n",
    "cr=(1+r)**12-1\n",
    "plt.figure()\n",
    "plt.ion()\n",
    "plt.plot(pa*100,(cr-pa)*100)\n",
    "plt.grid()\n",
    "plt.xlabel('p.a.(%)')\n",
    "plt.ylabel('diff(%)')\n",
    "20000/12.\n",
    "\n",
    "fp.save_series(5000, 0.05, 40)\n",
    "\n",
    "isinstance(0.01, float)\n",
    "not(isinstance(0.01, int) or isinstance(0.01, float))\n",
    "type(0.01)"
   ]
  },
  {
   "cell_type": "code",
   "execution_count": null,
   "metadata": {},
   "outputs": [],
   "source": []
  }
 ],
 "metadata": {
  "kernelspec": {
   "display_name": "Python 3",
   "language": "python",
   "name": "python3"
  },
  "language_info": {
   "codemirror_mode": {
    "name": "ipython",
    "version": 3
   },
   "file_extension": ".py",
   "mimetype": "text/x-python",
   "name": "python",
   "nbconvert_exporter": "python",
   "pygments_lexer": "ipython3",
   "version": "3.6.9"
  }
 },
 "nbformat": 4,
 "nbformat_minor": 1
}
